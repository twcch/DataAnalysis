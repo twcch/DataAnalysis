{
 "cells": [
  {
   "cell_type": "code",
   "id": "8f50eb35be542f50",
   "metadata": {
    "ExecuteTime": {
     "end_time": "2024-12-30T13:37:50.808825Z",
     "start_time": "2024-12-30T13:37:50.806524Z"
    }
   },
   "source": [
    "import pandas as pd\n",
    "import sqlite3"
   ],
   "outputs": [],
   "execution_count": 18
  },
  {
   "metadata": {
    "collapsed": true,
    "ExecuteTime": {
     "end_time": "2024-12-30T13:37:50.828042Z",
     "start_time": "2024-12-30T13:37:50.826207Z"
    }
   },
   "cell_type": "code",
   "source": [
    "file_names = ['ddf--datapoints--gdp_pcap--by--country--time',\n",
    "              'ddf--datapoints--lex--by--country--time',\n",
    "              'ddf--datapoints--pop--by--country--time',\n",
    "              'ddf--entities--geo--country']\n",
    "\n",
    "table_names = ['gdp_per_capita', 'life_expectancy', 'population', 'geography']"
   ],
   "id": "initial_id",
   "outputs": [],
   "execution_count": 19
  },
  {
   "metadata": {
    "ExecuteTime": {
     "end_time": "2024-12-30T13:37:50.850986Z",
     "start_time": "2024-12-30T13:37:50.847645Z"
    }
   },
   "cell_type": "code",
   "source": "table_names",
   "id": "24aa7c317f1dc46c",
   "outputs": [
    {
     "data": {
      "text/plain": [
       "['gdp_per_capita', 'life_expectancy', 'population', 'geography']"
      ]
     },
     "execution_count": 20,
     "metadata": {},
     "output_type": "execute_result"
    }
   ],
   "execution_count": 20
  },
  {
   "metadata": {
    "ExecuteTime": {
     "end_time": "2024-12-30T13:37:50.901145Z",
     "start_time": "2024-12-30T13:37:50.869518Z"
    }
   },
   "cell_type": "code",
   "source": [
    "df_dict = dict()\n",
    "\n",
    "for file_name, table_name in zip(file_names, table_names):\n",
    "    file_path = 'data/' + file_name + '.csv'\n",
    "    df = pd.read_csv(file_path)\n",
    "    df_dict[table_name] = df"
   ],
   "id": "af50dbdb4bcfe457",
   "outputs": [],
   "execution_count": 21
  },
  {
   "metadata": {
    "ExecuteTime": {
     "end_time": "2024-12-30T13:37:51.007406Z",
     "start_time": "2024-12-30T13:37:50.906324Z"
    }
   },
   "cell_type": "code",
   "source": [
    "conn = sqlite3.connect('data/data.db')\n",
    "\n",
    "for k, v in df_dict.items():\n",
    "    v.to_sql(name=k, con=conn, index=False, if_exists='replace')\n",
    "\n",
    "conn.close()"
   ],
   "id": "fd669c838a1b352",
   "outputs": [],
   "execution_count": 22
  },
  {
   "metadata": {
    "ExecuteTime": {
     "end_time": "2024-12-30T13:37:51.018010Z",
     "start_time": "2024-12-30T13:37:51.016788Z"
    }
   },
   "cell_type": "code",
   "source": "",
   "id": "8c0e58388e18686c",
   "outputs": [],
   "execution_count": null
  },
  {
   "metadata": {
    "ExecuteTime": {
     "end_time": "2024-12-30T13:37:51.031787Z",
     "start_time": "2024-12-30T13:37:51.030374Z"
    }
   },
   "cell_type": "code",
   "source": "",
   "id": "2e23f8f57d4e8146",
   "outputs": [],
   "execution_count": null
  },
  {
   "metadata": {
    "ExecuteTime": {
     "end_time": "2024-12-30T13:37:51.045272Z",
     "start_time": "2024-12-30T13:37:51.043681Z"
    }
   },
   "cell_type": "code",
   "source": "",
   "id": "81dcc8a0a81c4f14",
   "outputs": [],
   "execution_count": null
  },
  {
   "metadata": {
    "ExecuteTime": {
     "end_time": "2024-12-30T13:37:51.056257Z",
     "start_time": "2024-12-30T13:37:51.054819Z"
    }
   },
   "cell_type": "code",
   "source": "",
   "id": "136b0fcd19a02204",
   "outputs": [],
   "execution_count": null
  }
 ],
 "metadata": {
  "kernelspec": {
   "display_name": "base",
   "language": "python",
   "name": "python3"
  },
  "language_info": {
   "codemirror_mode": {
    "name": "ipython",
    "version": 3
   },
   "file_extension": ".py",
   "mimetype": "text/x-python",
   "name": "python",
   "nbconvert_exporter": "python",
   "pygments_lexer": "ipython3",
   "version": "3.12.7"
  }
 },
 "nbformat": 4,
 "nbformat_minor": 5
}
